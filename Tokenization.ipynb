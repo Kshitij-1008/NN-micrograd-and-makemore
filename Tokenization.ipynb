{
  "metadata": {
    "kernelspec": {
      "language": "python",
      "display_name": "Python 3",
      "name": "python3"
    },
    "language_info": {
      "name": "python",
      "version": "3.10.13",
      "mimetype": "text/x-python",
      "codemirror_mode": {
        "name": "ipython",
        "version": 3
      },
      "pygments_lexer": "ipython3",
      "nbconvert_exporter": "python",
      "file_extension": ".py"
    },
    "kaggle": {
      "accelerator": "none",
      "dataSources": [
        {
          "sourceId": 8783395,
          "sourceType": "datasetVersion",
          "datasetId": 5280004
        }
      ],
      "dockerImageVersionId": 30732,
      "isInternetEnabled": false,
      "language": "python",
      "sourceType": "notebook",
      "isGpuEnabled": false
    },
    "colab": {
      "name": "Tokenization",
      "provenance": [],
      "include_colab_link": true
    }
  },
  "nbformat_minor": 0,
  "nbformat": 4,
  "cells": [
    {
      "cell_type": "markdown",
      "metadata": {
        "id": "view-in-github",
        "colab_type": "text"
      },
      "source": [
        "<a href=\"https://colab.research.google.com/github/Kshitij-1008/NN-micrograd-and-makemore/blob/main/Tokenization.ipynb\" target=\"_parent\"><img src=\"https://colab.research.google.com/assets/colab-badge.svg\" alt=\"Open In Colab\"/></a>"
      ]
    },
    {
      "source": [
        "\n",
        "# IMPORTANT: RUN THIS CELL IN ORDER TO IMPORT YOUR KAGGLE DATA SOURCES\n",
        "# TO THE CORRECT LOCATION (/kaggle/input) IN YOUR NOTEBOOK,\n",
        "# THEN FEEL FREE TO DELETE THIS CELL.\n",
        "# NOTE: THIS NOTEBOOK ENVIRONMENT DIFFERS FROM KAGGLE'S PYTHON\n",
        "# ENVIRONMENT SO THERE MAY BE MISSING LIBRARIES USED BY YOUR\n",
        "# NOTEBOOK.\n",
        "\n",
        "import os\n",
        "import sys\n",
        "from tempfile import NamedTemporaryFile\n",
        "from urllib.request import urlopen\n",
        "from urllib.parse import unquote, urlparse\n",
        "from urllib.error import HTTPError\n",
        "from zipfile import ZipFile\n",
        "import tarfile\n",
        "import shutil\n",
        "\n",
        "CHUNK_SIZE = 40960\n",
        "DATA_SOURCE_MAPPING = 'merges:https%3A%2F%2Fstorage.googleapis.com%2Fkaggle-data-sets%2F5280004%2F8783395%2Fbundle%2Farchive.zip%3FX-Goog-Algorithm%3DGOOG4-RSA-SHA256%26X-Goog-Credential%3Dgcp-kaggle-com%2540kaggle-161607.iam.gserviceaccount.com%252F20240626%252Fauto%252Fstorage%252Fgoog4_request%26X-Goog-Date%3D20240626T080728Z%26X-Goog-Expires%3D259200%26X-Goog-SignedHeaders%3Dhost%26X-Goog-Signature%3D91ffe445a0de6ab5ece47bfbd231a48dc1bd17aff54d68452ba781bf59507be676b5d0646a8c0f3b30d05284d49e9f446c679a9b15303ecb4d35a44a828b13fc30076a61514d689aa890cfe03ed08906800d69f1ff6db85f1ac2e76f2d30e4c3d0be14d8b618fbad9770150afb04a2b0912607bbfeb5ba7f46dacf819c215a55fc535f0c4bc4980f2aa5e8878f6e735a06273fc97b37f74cd501784470832f5d26080deae4b5e083724d8cffe7ed90ed20e6c92570c8d6e04865cb5adc440c9a025ed79149ebff0e15a7dec8b72275dbe79a596a6c798ec7b5298228bbef8e3d1d68aa381eef21b6e293f2b13fa4e8ab0ac586bccbabd62d533400786d103b56'\n",
        "\n",
        "KAGGLE_INPUT_PATH='/kaggle/input'\n",
        "KAGGLE_WORKING_PATH='/kaggle/working'\n",
        "KAGGLE_SYMLINK='kaggle'\n",
        "\n",
        "!umount /kaggle/input/ 2> /dev/null\n",
        "shutil.rmtree('/kaggle/input', ignore_errors=True)\n",
        "os.makedirs(KAGGLE_INPUT_PATH, 0o777, exist_ok=True)\n",
        "os.makedirs(KAGGLE_WORKING_PATH, 0o777, exist_ok=True)\n",
        "\n",
        "try:\n",
        "  os.symlink(KAGGLE_INPUT_PATH, os.path.join(\"..\", 'input'), target_is_directory=True)\n",
        "except FileExistsError:\n",
        "  pass\n",
        "try:\n",
        "  os.symlink(KAGGLE_WORKING_PATH, os.path.join(\"..\", 'working'), target_is_directory=True)\n",
        "except FileExistsError:\n",
        "  pass\n",
        "\n",
        "for data_source_mapping in DATA_SOURCE_MAPPING.split(','):\n",
        "    directory, download_url_encoded = data_source_mapping.split(':')\n",
        "    download_url = unquote(download_url_encoded)\n",
        "    filename = urlparse(download_url).path\n",
        "    destination_path = os.path.join(KAGGLE_INPUT_PATH, directory)\n",
        "    try:\n",
        "        with urlopen(download_url) as fileres, NamedTemporaryFile() as tfile:\n",
        "            total_length = fileres.headers['content-length']\n",
        "            print(f'Downloading {directory}, {total_length} bytes compressed')\n",
        "            dl = 0\n",
        "            data = fileres.read(CHUNK_SIZE)\n",
        "            while len(data) > 0:\n",
        "                dl += len(data)\n",
        "                tfile.write(data)\n",
        "                done = int(50 * dl / int(total_length))\n",
        "                sys.stdout.write(f\"\\r[{'=' * done}{' ' * (50-done)}] {dl} bytes downloaded\")\n",
        "                sys.stdout.flush()\n",
        "                data = fileres.read(CHUNK_SIZE)\n",
        "            if filename.endswith('.zip'):\n",
        "              with ZipFile(tfile) as zfile:\n",
        "                zfile.extractall(destination_path)\n",
        "            else:\n",
        "              with tarfile.open(tfile.name) as tarfile:\n",
        "                tarfile.extractall(destination_path)\n",
        "            print(f'\\nDownloaded and uncompressed: {directory}')\n",
        "    except HTTPError as e:\n",
        "        print(f'Failed to load (likely expired) {download_url} to path {destination_path}')\n",
        "        continue\n",
        "    except OSError as e:\n",
        "        print(f'Failed to load {download_url} to path {destination_path}')\n",
        "        continue\n",
        "\n",
        "print('Data source import complete.')\n"
      ],
      "metadata": {
        "id": "YLKv9akZle50"
      },
      "cell_type": "code",
      "outputs": [],
      "execution_count": null
    },
    {
      "cell_type": "code",
      "source": [
        "# This Python 3 environment comes with many helpful analytics libraries installed\n",
        "# It is defined by the kaggle/python Docker image: https://github.com/kaggle/docker-python\n",
        "# For example, here's several helpful packages to load\n",
        "\n",
        "import numpy as np # linear algebra\n",
        "import pandas as pd # data processing, CSV file I/O (e.g. pd.read_csv)\n",
        "\n",
        "# Input data files are available in the read-only \"../input/\" directory\n",
        "# For example, running this (by clicking run or pressing Shift+Enter) will list all files under the input directory\n",
        "\n",
        "import os\n",
        "for dirname, _, filenames in os.walk('/kaggle/input'):\n",
        "    for filename in filenames:\n",
        "        print(os.path.join(dirname, filename))\n",
        "\n",
        "# You can write up to 20GB to the current directory (/kaggle/working/) that gets preserved as output when you create a version using \"Save & Run All\"\n",
        "# You can also write temporary files to /kaggle/temp/, but they won't be saved outside of the current session"
      ],
      "metadata": {
        "_uuid": "8f2839f25d086af736a60e9eeb907d3b93b6e0e5",
        "_cell_guid": "b1076dfc-b9ad-4769-8c92-a6c4dae69d19",
        "execution": {
          "iopub.status.busy": "2024-06-26T07:30:17.769955Z",
          "iopub.execute_input": "2024-06-26T07:30:17.770474Z",
          "iopub.status.idle": "2024-06-26T07:30:18.238391Z",
          "shell.execute_reply.started": "2024-06-26T07:30:17.770435Z",
          "shell.execute_reply": "2024-06-26T07:30:18.237164Z"
        },
        "trusted": true,
        "id": "j5LPz5aDle53"
      },
      "execution_count": null,
      "outputs": []
    },
    {
      "cell_type": "markdown",
      "source": [
        "# Introduction\n",
        "In [Tiktokenizer](https://tiktokenizer.vercel.app/) Check the following String:\n",
        "\n",
        "    Tokenization is at the heart of much weirdness of LLMs. Do not brush it off.\n",
        "    \n",
        "    127 + 677 = 804\n",
        "    1275 + 6773 = 8041\n",
        "\n",
        "    Egg.\n",
        "    I have an Egg.\n",
        "    egg.\n",
        "    EGG.\n",
        "\n",
        "    만나서 반가워요. 저는 OpenAI에서 개발한 대규모 언어 모델인 ChatGPT입니다. 궁금한 것이 있으시면 무엇이든 물어보세요.\n",
        "\n",
        "    for i in range(1, 101):\n",
        "        if i % 3 == 0 and i % 5 == 0:\n",
        "            print(\"FizzBuzz\")\n",
        "        elif i % 3 == 0:\n",
        "            print(\"Fizz\")\n",
        "        elif i % 5 == 0:\n",
        "            print(\"Buzz\")\n",
        "        else:\n",
        "            print(i)\n",
        "![image.png](attachment:0a4a2a82-e893-4270-beb4-8f7869d27eb1.png)"
      ],
      "metadata": {
        "id": "jdZVy3Hele54"
      }
    },
    {
      "cell_type": "markdown",
      "source": [
        "Notice:\n",
        "\n",
        "* space (shown in . here) is part of the token in English sentences. e.g., .heart, .of, .much, .weirdness, .of, .LLMs, ...\n",
        "* `127` is a single token, however `677` are two tokens `.6` and `77`.\n",
        "* `1275` is two tokens `.12` and `75`, however `6773` is two tokens `.6` and `773`.\n",
        "* ➡️ it seems to be arbitrary\n",
        "\n",
        "\n",
        "\n",
        "* `Egg` in the beginning of a sentence is two tokens, however `Egg` in the middle of a sentence is one token.\n",
        "* `Egg` is different a token from `egg`\n",
        "* ➡️ the LLM has to learn from data that they are the same word.\n",
        "\n",
        "\n",
        "\n",
        "* for other languages than English, the LLM is worse not only because it's trained on less data, but it's also because the Tokenizer is trained on less data\n",
        "* **it has shorter tokens for Korean**, e.g., same sentence in English has less number of tokens that the same sentence in Korean.\n",
        "* ➡️ This leads to the attention layers to run out of context\n",
        "\n",
        "\n",
        "\n",
        "* `indentation` in python code is a single token, this is wasting of tokens because `GPT2` tokenizer is not efficient.\n",
        "\n",
        "Trying the same Example but in `cl100k_base` (GPT4 Tokenizer), the token count drops from `300` to `185`, note that the number of tokens is almost doubled `50k` (in GPT2) to `100k` (in GPT4)\n",
        "\n",
        "\n",
        "\n",
        "* This may be good because same text is squished into less number of tokens (denser input) ➡️ we can see twice as much text\n",
        "* but increasing number of tokens makes a larger embeddings table, same problem when predicting the next token in the output."
      ],
      "metadata": {
        "id": "fCCnGR2Mle55"
      }
    },
    {
      "cell_type": "markdown",
      "source": [
        "# Unicode & Encoding\n",
        "use `ord()` to get the unicode code of a character, and `chr()` to get the character from its unicode code."
      ],
      "metadata": {
        "id": "rqXqyR7Yle55"
      }
    },
    {
      "cell_type": "code",
      "source": [
        "example = '안녕하세요 👋 (hello in Korean!)'\n",
        "unicodes = [ord(s) for s in example]\n",
        "print(unicodes)\n",
        "print(\"*****\")\n",
        "print(f\"The length of the unicodes is {len(unicodes)}\")\n",
        "print(\"*****\")\n",
        "print(f\"{''.join([chr(i) for i in unicodes])}\")"
      ],
      "metadata": {
        "execution": {
          "iopub.status.busy": "2024-06-26T07:30:18.240657Z",
          "iopub.execute_input": "2024-06-26T07:30:18.241188Z",
          "iopub.status.idle": "2024-06-26T07:30:18.249206Z",
          "shell.execute_reply.started": "2024-06-26T07:30:18.241154Z",
          "shell.execute_reply": "2024-06-26T07:30:18.247949Z"
        },
        "trusted": true,
        "id": "tPyrwtmwle56"
      },
      "execution_count": null,
      "outputs": []
    },
    {
      "cell_type": "markdown",
      "source": [
        "* Q: Why not using `Unicode` directly?\n",
        "* A: It's at Vocab level, we need about `150k` tokens + Unicode is updating continuously, we need more stable representation."
      ],
      "metadata": {
        "id": "YIfdbt_Ale56"
      }
    },
    {
      "cell_type": "markdown",
      "source": [
        "# UTF-8\n",
        "Unicode standard defines three encodings: `UTF-8`, `UTF-16` and `UTF-32`\n",
        "\n",
        "**Encoding** is the process of converting unicode code points to binary data.\n",
        "\n",
        "* `UTF-8` is the most common, length between `1` and `4` bytes, it's variable length encoding.\n",
        "* `UTF-32` is fixed length encoding."
      ],
      "metadata": {
        "id": "i3r3F8bdle57"
      }
    },
    {
      "cell_type": "code",
      "source": [
        "utf_8 = list(example.encode('utf-8'))\n",
        "print(utf_8)\n",
        "print(f\"The length of the encoding is {len(utf_8)}\")"
      ],
      "metadata": {
        "execution": {
          "iopub.status.busy": "2024-06-26T07:30:18.250848Z",
          "iopub.execute_input": "2024-06-26T07:30:18.251316Z",
          "iopub.status.idle": "2024-06-26T07:30:18.259147Z",
          "shell.execute_reply.started": "2024-06-26T07:30:18.251273Z",
          "shell.execute_reply": "2024-06-26T07:30:18.257927Z"
        },
        "trusted": true,
        "id": "BYFJH0YBle57"
      },
      "execution_count": null,
      "outputs": []
    },
    {
      "cell_type": "code",
      "source": [
        "utf_16 = list(example.encode('utf-16'))\n",
        "print(utf_16)\n",
        "print(f\"Number of zeros is {utf_16.count(0)}\")\n",
        "\n",
        "print(\"*\"*50)\n",
        "\n",
        "utf_32 = list(example.encode('utf-32'))\n",
        "print(utf_32)\n",
        "print(f\"Number of zeros is {len([i for i in utf_32 if i==0])}\")"
      ],
      "metadata": {
        "execution": {
          "iopub.status.busy": "2024-06-26T07:30:18.260571Z",
          "iopub.execute_input": "2024-06-26T07:30:18.260989Z",
          "iopub.status.idle": "2024-06-26T07:30:18.271202Z",
          "shell.execute_reply.started": "2024-06-26T07:30:18.260959Z",
          "shell.execute_reply": "2024-06-26T07:30:18.269934Z"
        },
        "trusted": true,
        "id": "DCS0WcrJle58"
      },
      "execution_count": null,
      "outputs": []
    },
    {
      "cell_type": "markdown",
      "source": [
        "using `UTF-8` directly is not efficient since vocab length will be `256` ➡️ very tiny embedding table and output prediction, but very long sequences.\n",
        "\n",
        "For the same example in the beginning:\n",
        "\n",
        "* `300` tokens in `GTP2` tokenizer\n",
        "* `185` tokens in `cl100k_base` (GPT4 tokenizer)\n",
        "* `503` tokens if tokenized using `UTF-8` (Check the cell below)"
      ],
      "metadata": {
        "id": "6TJxwp-5le58"
      }
    },
    {
      "cell_type": "code",
      "source": [
        "example_string = \"\"\"\n",
        "Tokenization is at the heart of much weirdness of LLMs. Do not brush it off.\n",
        "\n",
        "127 + 677 = 804\n",
        "1275 + 6773 = 8041\n",
        "\n",
        "Egg.\n",
        "I have an Egg.\n",
        "egg.\n",
        "EGG.\n",
        "\n",
        "만나서 반가워요. 저는 OpenAI에서 개발한 대규모 언어 모델인 ChatGPT입니다. 궁금한 것이 있으시면 무엇이든 물어보세요.\n",
        "\n",
        "for i in range(1, 101):\n",
        "    if i % 3 == 0 and i % 5 == 0:\n",
        "        print(\"FizzBuzz\")\n",
        "    elif i % 3 == 0:\n",
        "        print(\"Fizz\")\n",
        "    elif i % 5 == 0:\n",
        "        print(\"Buzz\")\n",
        "    else:\n",
        "        print(i)\n",
        "\"\"\"\n",
        "# print(list(example_string.encode('utf-8')))\n",
        "# print('*'*50)\n",
        "print(f\"length in utf-8: {len(example_string.encode('utf-8'))}\")"
      ],
      "metadata": {
        "execution": {
          "iopub.status.busy": "2024-06-26T07:30:18.274898Z",
          "iopub.execute_input": "2024-06-26T07:30:18.27534Z",
          "iopub.status.idle": "2024-06-26T07:30:18.282825Z",
          "shell.execute_reply.started": "2024-06-26T07:30:18.275298Z",
          "shell.execute_reply": "2024-06-26T07:30:18.281519Z"
        },
        "trusted": true,
        "id": "M7_OXqkRle58"
      },
      "execution_count": null,
      "outputs": []
    },
    {
      "cell_type": "markdown",
      "source": [
        "we want to use `UTF-8` encoding, but instead of using `raw bytes` we need to support larger `vocab size` that can be tuned as a hyperparameter."
      ],
      "metadata": {
        "id": "52-Qn9q8le59"
      }
    },
    {
      "cell_type": "markdown",
      "source": [
        "# Byte-Pair Encoding (BPE)\n",
        "Example (source: Wikipedia): Suppose the data to be encoded is\n",
        "\n",
        "* aaabdaaabac\n",
        "\n",
        "The byte pair \"aa\" occurs most often, so it will be replaced by a byte that is not used in the data, such as \"Z\". Now there is the following data and replacement table:\n",
        "\n",
        "* ZabdZabac\n",
        "* Z=aa\n",
        "\n",
        "Then the process is repeated with byte pair \"ab\", replacing it with \"Y\":\n",
        "\n",
        "* ZYdZYac\n",
        "* Y=ab\n",
        "* Z=aa\n",
        "\n",
        "The only literal byte pair left occurs only once, and the encoding might stop here. Alternatively, the process could continue with recursive byte pair encoding, replacing \"ZY\" with \"X\":\n",
        "\n",
        "* XdXac\n",
        "* X=ZY\n",
        "* Y=ab\n",
        "* Z=aa\n",
        "\n",
        "This data cannot be compressed further by byte pair encoding because there are no pairs of bytes that occur more than once.\n",
        "\n",
        "To decompress the data, simply perform the replacements in the reverse order.\n",
        "\n",
        "**Transformation of the text: From 11 tokens to 5 tokens; Vocab size goes from 4 (a,b,c,d) to 7 (a,b,c,d,X,Y,Z)**"
      ],
      "metadata": {
        "id": "0LmCjw7ile59"
      }
    },
    {
      "cell_type": "code",
      "source": [
        "text = \"Ｕｎｉｃｏｄｅ! 🅤🅝🅘🅒🅞🅓🅔‽ 🇺‌🇳‌🇮‌🇨‌🇴‌🇩‌🇪! 😄 The very name strikes fear and awe into the hearts of programmers worldwide. We all know we ought to “support Unicode” in our software (whatever that means—like using wchar_t for all the strings, right?). But Unicode can be abstruse, and diving into the thousand-page Unicode Standard plus its dozens of supplementary annexes, reports, and notes can be more than a little intimidating. I don’t blame programmers for still finding the whole thing mysterious, even 30 years after Unicode’s inception.\"\n",
        "\n",
        "tokens = text.encode(\"utf-8\")  # raw bytes\n",
        "# convert to a list of integers in range 0..255 for convenience\n",
        "tokens = list(map(int, tokens))\n",
        "print(\"-\" * 50)\n",
        "print(text)\n",
        "print(\"length:\", len(text))  # 533\n",
        "print(\"-\" * 50)\n",
        "print(tokens)\n",
        "# 616 since some characters are encoded as multiple bytes\n",
        "print(\"length:\", len(tokens))\n",
        "print(\"-\" * 50)\n",
        "print(\n",
        "    f\"The Emoji 😂 length is {len('😂')} but after encoding it's {len(('😂').encode('utf-8'))}\"\n",
        ")"
      ],
      "metadata": {
        "execution": {
          "iopub.status.busy": "2024-06-26T07:30:18.284224Z",
          "iopub.execute_input": "2024-06-26T07:30:18.284585Z",
          "iopub.status.idle": "2024-06-26T07:30:18.30148Z",
          "shell.execute_reply.started": "2024-06-26T07:30:18.284555Z",
          "shell.execute_reply": "2024-06-26T07:30:18.300271Z"
        },
        "trusted": true,
        "id": "mJxOBmOLle59"
      },
      "execution_count": null,
      "outputs": []
    },
    {
      "cell_type": "code",
      "source": [
        "def get_stats(ids):\n",
        "    \"\"\"\n",
        "    List of token ids, returns the pair that appears together the most\n",
        "    \"\"\"\n",
        "\n",
        "    dict_ = {}\n",
        "    for (char, next_char) in zip(ids, ids[1:]):\n",
        "        dict_[(char, next_char)] = dict_.get((char, next_char), 0) + 1\n",
        "\n",
        "    return dict_\n",
        "\n",
        "stats = get_stats(tokens)\n",
        "# print(stats)\n",
        "# swapping keys and values to sort\n",
        "l = sorted(((values, keys) for keys, values in stats.items()), reverse=True)\n",
        "# print(l)\n",
        "# print('*'*50)\n",
        "top_pair = max(stats, key=stats.get)\n",
        "print(\n",
        "f\"The most common pair is {top_pair} which is ({chr(top_pair[0])}{chr(top_pair[1])}) and occurs {stats[top_pair]} times.\"\n",
        ")"
      ],
      "metadata": {
        "execution": {
          "iopub.status.busy": "2024-06-26T07:30:18.303067Z",
          "iopub.execute_input": "2024-06-26T07:30:18.303501Z",
          "iopub.status.idle": "2024-06-26T07:30:18.314408Z",
          "shell.execute_reply.started": "2024-06-26T07:30:18.30346Z",
          "shell.execute_reply": "2024-06-26T07:30:18.313276Z"
        },
        "trusted": true,
        "id": "BeZ5-jNUle5-"
      },
      "execution_count": null,
      "outputs": []
    },
    {
      "cell_type": "code",
      "source": [
        "def merge(ids, pair, idx):\n",
        "    \"\"\"\n",
        "    Merges the most occuring token ids into one\"\"\"\n",
        "    newids = []\n",
        "    for i in range(len(ids)):\n",
        "        if i+1<len(ids) and ids[i] ==pair[0] and ids[i+1]==pair[1]:\n",
        "            newids.append(idx)\n",
        "        elif ids[i] ==pair[1] and ids[i-1]==pair[0]:\n",
        "            continue\n",
        "        else:\n",
        "            newids.append(ids[i])\n",
        "    return newids\n",
        "\n",
        "print(merge([5, 6, 6, 7, 9, 1], (6, 7), 99))\n",
        "print(\"-\" * 50)\n",
        "\n",
        "tokens2 = merge(tokens, top_pair, 256)\n",
        "print(tokens2)\n",
        "print(\"length:\", len(tokens2))\n"
      ],
      "metadata": {
        "execution": {
          "iopub.status.busy": "2024-06-26T07:30:18.315711Z",
          "iopub.execute_input": "2024-06-26T07:30:18.316066Z",
          "iopub.status.idle": "2024-06-26T07:30:18.330941Z",
          "shell.execute_reply.started": "2024-06-26T07:30:18.316025Z",
          "shell.execute_reply": "2024-06-26T07:30:18.329671Z"
        },
        "trusted": true,
        "id": "itDbn0S_le5-"
      },
      "execution_count": null,
      "outputs": []
    },
    {
      "cell_type": "code",
      "source": [
        "# making the training text longer to have more representative token statistics\n",
        "text = \"\"\"A Programmer’s Introduction to Unicode March 3, 2017 · Coding · 22 Comments  Ｕｎｉｃｏｄｅ! 🅤🅝🅘🅒🅞🅓🅔‽ 🇺\\u200c🇳\\u200c🇮\\u200c🇨\\u200c🇴\\u200c🇩\\u200c🇪! 😄 The very name strikes fear and awe into the hearts of programmers worldwide. We all know we ought to “support Unicode” in our software (whatever that means—like using wchar_t for all the strings, right?). But Unicode can be abstruse, and diving into the thousand-page Unicode Standard plus its dozens of supplementary annexes, reports, and notes can be more than a little intimidating. I don’t blame programmers for still finding the whole thing mysterious, even 30 years after Unicode’s inception.  A few months ago, I got interested in Unicode and decided to spend some time learning more about it in detail. In this article, I’ll give an introduction to it from a programmer’s point of view.  I’m going to focus on the character set and what’s involved in working with strings and files of Unicode text. However, in this article I’m not going to talk about fonts, text layout/shaping/rendering, or localization in detail—those are separate issues, beyond my scope (and knowledge) here.  Diversity and Inherent Complexity The Unicode Codespace Codespace Allocation Scripts Usage Frequency Encodings UTF-8 UTF-16 Combining Marks Canonical Equivalence Normalization Forms Grapheme Clusters And More… Diversity and Inherent Complexity As soon as you start to study Unicode, it becomes clear that it represents a large jump in complexity over character sets like ASCII that you may be more familiar with. It’s not just that Unicode contains a much larger number of characters, although that’s part of it. Unicode also has a great deal of internal structure, features, and special cases, making it much more than what one might expect a mere “character set” to be. We’ll see some of that later in this article.  When confronting all this complexity, especially as an engineer, it’s hard not to find oneself asking, “Why do we need all this? Is this really necessary? Couldn’t it be simplified?”  However, Unicode aims to faithfully represent the entire world’s writing systems. The Unicode Consortium’s stated goal is “enabling people around the world to use computers in any language”. And as you might imagine, the diversity of written languages is immense! To date, Unicode supports 135 different scripts, covering some 1100 languages, and there’s still a long tail of over 100 unsupported scripts, both modern and historical, which people are still working to add.  Given this enormous diversity, it’s inevitable that representing it is a complicated project. Unicode embraces that diversity, and accepts the complexity inherent in its mission to include all human writing systems. It doesn’t make a lot of trade-offs in the name of simplification, and it makes exceptions to its own rules where necessary to further its mission.  Moreover, Unicode is committed not just to supporting texts in any single language, but also to letting multiple languages coexist within one text—which introduces even more complexity.  Most programming languages have libraries available to handle the gory low-level details of text manipulation, but as a programmer, you’ll still need to know about certain Unicode features in order to know when and how to apply them. It may take some time to wrap your head around it all, but don’t be discouraged—think about the billions of people for whom your software will be more accessible through supporting text in their language. Embrace the complexity!  The Unicode Codespace Let’s start with some general orientation. The basic elements of Unicode—its “characters”, although that term isn’t quite right—are called code points. Code points are identified by number, customarily written in hexadecimal with the prefix “U+”, such as U+0041 “A” latin capital letter a or U+03B8 “θ” greek small letter theta. Each code point also has a short name, and quite a few other properties, specified in the Unicode Character Database.  The set of all possible code points is called the codespace. The Unicode codespace consists of 1,114,112 code points. However, only 128,237 of them—about 12% of the codespace—are actually assigned, to date. There’s plenty of room for growth! Unicode also reserves an additional 137,468 code points as “private use” areas, which have no standardized meaning and are available for individual applications to define for their own purposes.  Codespace Allocation To get a feel for how the codespace is laid out, it’s helpful to visualize it. Below is a map of the entire codespace, with one pixel per code point. It’s arranged in tiles for visual coherence; each small square is 16×16 = 256 code points, and each large square is a “plane” of 65,536 code points. There are 17 planes altogether.  Map of the Unicode codespace (click to zoom)  White represents unassigned space. Blue is assigned code points, green is private-use areas, and the small red area is surrogates (more about those later). As you can see, the assigned code points are distributed somewhat sparsely, but concentrated in the first three planes.  Plane 0 is also known as the “Basic Multilingual Plane”, or BMP. The BMP contains essentially all the characters needed for modern text in any script, including Latin, Cyrillic, Greek, Han (Chinese), Japanese, Korean, Arabic, Hebrew, Devanagari (Indian), and many more.  (In the past, the codespace was just the BMP and no more—Unicode was originally conceived as a straightforward 16-bit encoding, with only 65,536 code points. It was expanded to its current size in 1996. However, the vast majority of code points in modern text belong to the BMP.)  Plane 1 contains historical scripts, such as Sumerian cuneiform and Egyptian hieroglyphs, as well as emoji and various other symbols. Plane 2 contains a large block of less-common and historical Han characters. The remaining planes are empty, except for a small number of rarely-used formatting characters in Plane 14; planes 15–16 are reserved entirely for private use.  Scripts Let’s zoom in on the first three planes, since that’s where the action is:  Map of scripts in Unicode planes 0–2 (click to zoom)  This map color-codes the 135 different scripts in Unicode. You can see how Han () and Korean () take up most of the range of the BMP (the left large square). By contrast, all of the European, Middle Eastern, and South Asian scripts fit into the first row of the BMP in this diagram.  Many areas of the codespace are adapted or copied from earlier encodings. For example, the first 128 code points of Unicode are just a copy of ASCII. This has clear benefits for compatibility—it’s easy to losslessly convert texts from smaller encodings into Unicode (and the other direction too, as long as no characters outside the smaller encoding are used).  Usage Frequency One more interesting way to visualize the codespace is to look at the distribution of usage—in other words, how often each code point is actually used in real-world texts. Below is a heat map of planes 0–2 based on a large sample of text from Wikipedia and Twitter (all languages). Frequency increases from black (never seen) through red and yellow to white.  Heat map of code point usage frequency in Unicode planes 0–2 (click to zoom)  You can see that the vast majority of this text sample lies in the BMP, with only scattered usage of code points from planes 1–2. The biggest exception is emoji, which show up here as the several bright squares in the bottom row of plane 1.  Encodings We’ve seen that Unicode code points are abstractly identified by their index in the codespace, ranging from U+0000 to U+10FFFF. But how do code points get represented as bytes, in memory or in a file?  The most convenient, computer-friendliest (and programmer-friendliest) thing to do would be to just store the code point index as a 32-bit integer. This works, but it consumes 4 bytes per code point, which is sort of a lot. Using 32-bit ints for Unicode will cost you a bunch of extra storage, memory, and performance in bandwidth-bound scenarios, if you work with a lot of text.  Consequently, there are several more-compact encodings for Unicode. The 32-bit integer encoding is officially called UTF-32 (UTF = “Unicode Transformation Format”), but it’s rarely used for storage. At most, it comes up sometimes as a temporary internal representation, for examining or operating on the code points in a string.  Much more commonly, you’ll see Unicode text encoded as either UTF-8 or UTF-16. These are both variable-length encodings, made up of 8-bit or 16-bit units, respectively. In these schemes, code points with smaller index values take up fewer bytes, which saves a lot of memory for typical texts. The trade-off is that processing UTF-8/16 texts is more programmatically involved, and likely slower.  UTF-8 In UTF-8, each code point is stored using 1 to 4 bytes, based on its index value.  UTF-8 uses a system of binary prefixes, in which the high bits of each byte mark whether it’s a single byte, the beginning of a multi-byte sequence, or a continuation byte; the remaining bits, concatenated, give the code point index. This table shows how it works:  UTF-8 (binary)\\tCode point (binary)\\tRange 0xxxxxxx\\txxxxxxx\\tU+0000–U+007F 110xxxxx 10yyyyyy\\txxxxxyyyyyy\\tU+0080–U+07FF 1110xxxx 10yyyyyy 10zzzzzz\\txxxxyyyyyyzzzzzz\\tU+0800–U+FFFF 11110xxx 10yyyyyy 10zzzzzz 10wwwwww\\txxxyyyyyyzzzzzzwwwwww\\tU+10000–U+10FFFF A handy property of UTF-8 is that code points below 128 (ASCII characters) are encoded as single bytes, and all non-ASCII code points are encoded using sequences of bytes 128–255. This has a couple of nice consequences. First, any strings or files out there that are already in ASCII can also be interpreted as UTF-8 without any conversion. Second, lots of widely-used string programming idioms—such as null termination, or delimiters (newlines, tabs, commas, slashes, etc.)—will just work on UTF-8 strings. ASCII bytes never occur inside the encoding of non-ASCII code points, so searching byte-wise for a null terminator or a delimiter will do the right thing.  Thanks to this convenience, it’s relatively simple to extend legacy ASCII programs and APIs to handle UTF-8 strings. UTF-8 is very widely used in the Unix/Linux and Web worlds, and many programmers argue UTF-8 should be the default encoding everywhere.  However, UTF-8 isn’t a drop-in replacement for ASCII strings in all respects. For instance, code that iterates over the “characters” in a string will need to decode UTF-8 and iterate over code points (or maybe grapheme clusters—more about those later), not bytes. When you measure the “length” of a string, you’ll need to think about whether you want the length in bytes, the length in code points, the width of the text when rendered, or something else.  UTF-16 The other encoding that you’re likely to encounter is UTF-16. It uses 16-bit words, with each code point stored as either 1 or 2 words.  Like UTF-8, we can express the UTF-16 encoding rules in the form of binary prefixes:  UTF-16 (binary)\\tCode point (binary)\\tRange xxxxxxxxxxxxxxxx\\txxxxxxxxxxxxxxxx\\tU+0000–U+FFFF 110110xxxxxxxxxx 110111yyyyyyyyyy\\txxxxxxxxxxyyyyyyyyyy + 0x10000\\tU+10000–U+10FFFF A more common way that people talk about UTF-16 encoding, though, is in terms of code points called “surrogates”. All the code points in the range U+D800–U+DFFF—or in other words, the code points that match the binary prefixes 110110 and 110111 in the table above—are reserved specifically for UTF-16 encoding, and don’t represent any valid characters on their own. They’re only meant to occur in the 2-word encoding pattern above, which is called a “surrogate pair”. Surrogate code points are illegal in any other context! They’re not allowed in UTF-8 or UTF-32 at all.  Historically, UTF-16 is a descendant of the original, pre-1996 versions of Unicode, in which there were only 65,536 code points. The original intention was that there would be no different “encodings”; Unicode was supposed to be a straightforward 16-bit character set. Later, the codespace was expanded to make room for a long tail of less-common (but still important) Han characters, which the Unicode designers didn’t originally plan for. Surrogates were then introduced, as—to put it bluntly—a kludge, allowing 16-bit encodings to access the new code points.  Today, Javascript uses UTF-16 as its standard string representation: if you ask for the length of a string, or iterate over it, etc., the result will be in UTF-16 words, with any code points outside the BMP expressed as surrogate pairs. UTF-16 is also used by the Microsoft Win32 APIs; though Win32 supports either 8-bit or 16-bit strings, the 8-bit version unaccountably still doesn’t support UTF-8—only legacy code-page encodings, like ANSI. This leaves UTF-16 as the only way to get proper Unicode support in Windows. (Update: in Win10 version 1903, they finally added UTF-8 support to the 8-bit APIs! 😊)  By the way, UTF-16’s words can be stored either little-endian or big-endian. Unicode has no opinion on that issue, though it does encourage the convention of putting U+FEFF zero width no-break space at the top of a UTF-16 file as a byte-order mark, to disambiguate the endianness. (If the file doesn’t match the system’s endianness, the BOM will be decoded as U+FFFE, which isn’t a valid code point.)  Combining Marks In the story so far, we’ve been focusing on code points. But in Unicode, a “character” can be more complicated than just an individual code point!  Unicode includes a system for dynamically composing characters, by combining multiple code points together. This is used in various ways to gain flexibility without causing a huge combinatorial explosion in the number of code points.  In European languages, for example, this shows up in the application of diacritics to letters. Unicode supports a wide range of diacritics, including acute and grave accents, umlauts, cedillas, and many more. All these diacritics can be applied to any letter of any alphabet—and in fact, multiple diacritics can be used on a single letter.  If Unicode tried to assign a distinct code point to every possible combination of letter and diacritics, things would rapidly get out of hand. Instead, the dynamic composition system enables you to construct the character you want, by starting with a base code point (the letter) and appending additional code points, called “combining marks”, to specify the diacritics. When a text renderer sees a sequence like this in a string, it automatically stacks the diacritics over or under the base letter to create a composed character.  For example, the accented character “Á” can be expressed as a string of two code points: U+0041 “A” latin capital letter a plus U+0301 “◌́” combining acute accent. This string automatically gets rendered as a single character: “Á”.  Now, Unicode does also include many “precomposed” code points, each representing a letter with some combination of diacritics already applied, such as U+00C1 “Á” latin capital letter a with acute or U+1EC7 “ệ” latin small letter e with circumflex and dot below. I suspect these are mostly inherited from older encodings that were assimilated into Unicode, and kept around for compatibility. In practice, there are precomposed code points for most of the common letter-with-diacritic combinations in European-script languages, so they don’t use dynamic composition that much in typical text.  Still, the system of combining marks does allow for an arbitrary number of diacritics to be stacked on any base character. The reductio-ad-absurdum of this is Zalgo text, which works by ͖͟ͅr͞aṋ̫̠̖͈̗d͖̻̹óm̪͙͕̗̝ļ͇̰͓̳̫ý͓̥̟͍ ̕s̫t̫̱͕̗̰̼̘͜a̼̩͖͇̠͈̣͝c̙͍k̖̱̹͍͘i̢n̨̺̝͇͇̟͙ģ̫̮͎̻̟ͅ ̕n̼̺͈͞u̮͙m̺̭̟̗͞e̞͓̰̤͓̫r̵o̖ṷs҉̪͍̭̬̝̤ ̮͉̝̞̗̟͠d̴̟̜̱͕͚i͇̫̼̯̭̜͡ḁ͙̻̼c̲̲̹r̨̠̹̣̰̦i̱t̤̻̤͍͙̘̕i̵̜̭̤̱͎c̵s ͘o̱̲͈̙͖͇̲͢n͘ ̜͈e̬̲̠̩ac͕̺̠͉h̷̪ ̺̣͖̱ḻ̫̬̝̹ḙ̙̺͙̭͓̲t̞̞͇̲͉͍t̷͔̪͉̲̻̠͙e̦̻͈͉͇r͇̭̭̬͖,̖́ ̜͙͓̣̭s̘̘͈o̱̰̤̲ͅ ̛̬̜̙t̼̦͕̱̹͕̥h̳̲͈͝ͅa̦t̻̲ ̻̟̭̦̖t̛̰̩h̠͕̳̝̫͕e͈̤̘͖̞͘y҉̝͙ ̷͉͔̰̠o̞̰v͈͈̳̘͜er̶f̰͈͔ḻ͕̘̫̺̲o̲̭͙͠ͅw̱̳̺ ͜t̸h͇̭͕̳͍e̖̯̟̠ ͍̞̜͔̩̪͜ļ͎̪̲͚i̝̲̹̙̩̹n̨̦̩̖ḙ̼̲̼͢ͅ ̬͝s̼͚̘̞͝p͙̘̻a̙c҉͉̜̤͈̯̖i̥͡n̦̠̱͟g̸̗̻̦̭̮̟ͅ ̳̪̠͖̳̯̕a̫͜n͝d͡ ̣̦̙ͅc̪̗r̴͙̮̦̹̳e͇͚̞͔̹̫͟a̙̺̙ț͔͎̘̹ͅe̥̩͍ a͖̪̜̮͙̹n̢͉̝ ͇͉͓̦̼́a̳͖̪̤̱p̖͔͔̟͇͎͠p̱͍̺ę̲͎͈̰̲̤̫a̯͜r̨̮̫̣̘a̩̯͖n̹̦̰͎̣̞̞c̨̦̱͔͎͍͖e̬͓͘ ̤̰̩͙̤̬͙o̵̼̻̬̻͇̮̪f̴ ̡̙̭͓͖̪̤“̸͙̠̼c̳̗͜o͏̼͙͔̮r̞̫̺̞̥̬ru̺̻̯͉̭̻̯p̰̥͓̣̫̙̤͢t̳͍̳̖ͅi̶͈̝͙̼̙̹o̡͔n̙̺̹̖̩͝ͅ”̨̗͖͚̩.̯͓  A few other places where dynamic character composition shows up in Unicode:  Vowel-pointing notation in Arabic and Hebrew. In these languages, words are normally spelled with some of their vowels left out. They then have diacritic notation to indicate the vowels (used in dictionaries, language-teaching materials, children’s books, and such). These diacritics are expressed with combining marks.  A Hebrew example, with niqqud:\\tאֶת דַלְתִּי הֵזִיז הֵנִיעַ, קֶטֶב לִשְׁכַּתִּי יָשׁוֹד Normal writing (no niqqud):\\tאת דלתי הזיז הניע, קטב לשכתי ישוד Devanagari, the script used to write Hindi, Sanskrit, and many other South Asian languages, expresses certain vowels as combining marks attached to consonant letters. For example, “ह” + “\\u200bि” = “हि” (“h” + “i” = “hi”). Korean characters stand for syllables, but they are composed of letters called jamo that stand for the vowels and consonants in the syllable. While there are code points for precomposed Korean syllables, it’s also possible to dynamically compose them by concatenating their jamo. For example, “ᄒ” + “ᅡ” + “ᆫ” = “한” (“h” + “a” + “n” = “han”). Canonical Equivalence In Unicode, precomposed characters exist alongside the dynamic composition system. A consequence of this is that there are multiple ways to express “the same” string—different sequences of code points that result in the same user-perceived characters. For example, as we saw earlier, we can express the character “Á” either as the single code point U+00C1, or as the string of two code points U+0041 U+0301.  Another source of ambiguity is the ordering of multiple diacritics in a single character. Diacritic order matters visually when two diacritics apply to the same side of the base character, e.g. both above: “ǡ” (dot, then macron) is different from “ā̇” (macron, then dot). However, when diacritics apply to different sides of the character, e.g. one above and one below, then the order doesn’t affect rendering. Moreover, a character with multiple diacritics might have one of the diacritics precomposed and others expressed as combining marks.  For example, the Vietnamese letter “ệ” can be expressed in five different ways:  Fully precomposed: U+1EC7 “ệ” Partially precomposed: U+1EB9 “ẹ” + U+0302 “◌̂” Partially precomposed: U+00EA “ê” + U+0323 “◌̣” Fully decomposed: U+0065 “e” + U+0323 “◌̣” + U+0302 “◌̂” Fully decomposed: U+0065 “e” + U+0302 “◌̂” + U+0323 “◌̣” Unicode refers to set of strings like this as “canonically equivalent”. Canonically equivalent strings are supposed to be treated as identical for purposes of searching, sorting, rendering, text selection, and so on. This has implications for how you implement operations on text. For example, if an app has a “find in file” operation and the user searches for “ệ”, it should, by default, find occurrences of any of the five versions of “ệ” above!  Normalization Forms To address the problem of “how to handle canonically equivalent strings”, Unicode defines several normalization forms: ways of converting strings into a canonical form so that they can be compared code-point-by-code-point (or byte-by-byte).  The “NFD” normalization form fully decomposes every character down to its component base and combining marks, taking apart any precomposed code points in the string. It also sorts the combining marks in each character according to their rendered position, so e.g. diacritics that go below the character come before the ones that go above the character. (It doesn’t reorder diacritics in the same rendered position, since their order matters visually, as previously mentioned.)  The “NFC” form, conversely, puts things back together into precomposed code points as much as possible. If an unusual combination of diacritics is called for, there may not be any precomposed code point for it, in which case NFC still precomposes what it can and leaves any remaining combining marks in place (again ordered by rendered position, as in NFD).  There are also forms called NFKD and NFKC. The “K” here refers to compatibility decompositions, which cover characters that are “similar” in some sense but not visually identical. However, I’m not going to cover that here.  Grapheme Clusters As we’ve seen, Unicode contains various cases where a thing that a user thinks of as a single “character” might actually be made up of multiple code points under the hood. Unicode formalizes this using the notion of a grapheme cluster: a string of one or more code points that constitute a single “user-perceived character”.  UAX #29 defines the rules for what, precisely, qualifies as a grapheme cluster. It’s approximately “a base code point followed by any number of combining marks”, but the actual definition is a bit more complicated; it accounts for things like Korean jamo, and emoji ZWJ sequences.  The main thing grapheme clusters are used for is text editing: they’re often the most sensible unit for cursor placement and text selection boundaries. Using grapheme clusters for these purposes ensures that you can’t accidentally chop off some diacritics when you copy-and-paste text, that left/right arrow keys always move the cursor by one visible character, and so on.  Another place where grapheme clusters are useful is in enforcing a string length limit—say, on a database field. While the true, underlying limit might be something like the byte length of the string in UTF-8, you wouldn’t want to enforce that by just truncating bytes. At a minimum, you’d want to “round down” to the nearest code point boundary; but even better, round down to the nearest grapheme cluster boundary. Otherwise, you might be corrupting the last character by cutting off a diacritic, or interrupting a jamo sequence or ZWJ sequence.  And More… There’s much more that could be said about Unicode from a programmer’s perspective! I haven’t gotten into such fun topics as case mapping, collation, compatibility decompositions and confusables, Unicode-aware regexes, or bidirectional text. Nor have I said anything yet about implementation issues—how to efficiently store and look-up data about the sparsely-assigned code points, or how to optimize UTF-8 decoding, string comparison, or NFC normalization. Perhaps I’ll return to some of those things in future posts.  Unicode is a fascinating and complex system. It has a many-to-one mapping between bytes and code points, and on top of that a many-to-one (or, under some circumstances, many-to-many) mapping between code points and “characters”. It has oddball special cases in every corner. But no one ever claimed that representing all written languages was going to be easy, and it’s clear that we’re never going back to the bad old days of a patchwork of incompatible encodings.  Further reading:  The Unicode Standard UTF-8 Everywhere Manifesto Dark corners of Unicode by Eevee ICU (International Components for Unicode)—C/C++/Java libraries implementing many Unicode algorithms and related things Python 3 Unicode Howto Google Noto Fonts—set of fonts intended to cover all assigned code points\"\"\"\n",
        "tokens = text.encode(\"utf-8\")  # raw bytes\n",
        "# convert to a list of integers in range 0..255 for convenience\n",
        "tokens = list(map(int, tokens))"
      ],
      "metadata": {
        "execution": {
          "iopub.status.busy": "2024-06-26T07:30:18.332882Z",
          "iopub.execute_input": "2024-06-26T07:30:18.333242Z",
          "iopub.status.idle": "2024-06-26T07:30:18.364275Z",
          "shell.execute_reply.started": "2024-06-26T07:30:18.333211Z",
          "shell.execute_reply": "2024-06-26T07:30:18.362858Z"
        },
        "trusted": true,
        "id": "tbGLzozHle5-"
      },
      "execution_count": null,
      "outputs": []
    },
    {
      "cell_type": "code",
      "source": [
        "len(tokens)"
      ],
      "metadata": {
        "execution": {
          "iopub.status.busy": "2024-06-26T07:30:18.365647Z",
          "iopub.execute_input": "2024-06-26T07:30:18.366041Z",
          "iopub.status.idle": "2024-06-26T07:30:18.381225Z",
          "shell.execute_reply.started": "2024-06-26T07:30:18.366007Z",
          "shell.execute_reply": "2024-06-26T07:30:18.379708Z"
        },
        "trusted": true,
        "id": "6SVwRA7Lle5_"
      },
      "execution_count": null,
      "outputs": []
    },
    {
      "cell_type": "code",
      "source": [
        "def get_stats(ids):\n",
        "    \"\"\"\n",
        "    List of token ids, returns the pair that appears together the most\n",
        "    \"\"\"\n",
        "\n",
        "    dict_ = {}\n",
        "    for (char, next_char) in zip(ids, ids[1:]):\n",
        "        dict_[(char, next_char)] = dict_.get((char, next_char), 0) + 1\n",
        "\n",
        "    return dict_\n",
        "\n",
        "def merge(ids, pair, idx):\n",
        "    \"\"\"\n",
        "    Merges the most occuring token ids into one\n",
        "    \"\"\"\n",
        "\n",
        "    newids = []\n",
        "    i=0\n",
        "    while i<len(ids):\n",
        "        if i+1<len(ids) and ids[i] ==pair[0] and ids[i+1]==pair[1]:\n",
        "            newids.append(idx)\n",
        "            i+=2\n",
        "        else:\n",
        "            newids.append(ids[i])\n",
        "            i+=1\n",
        "\n",
        "    return newids\n",
        "\n",
        "# making the loop\n",
        "vocab_size = 276  # the desired final vocabulary size\n",
        "num_merges = vocab_size - 256  # the number of merge operations to perform\n",
        "ids = list(tokens)  # make a copy of the token list\n",
        "\n",
        "merges = {}  # (int, int) -> int\n",
        "for i in range(num_merges):\n",
        "    stats = get_stats(ids)\n",
        "    pair = max(stats, key=stats.get)\n",
        "    idx = 256 + i\n",
        "    print(f\"merging {pair} into a new token {idx}\")\n",
        "    ids = merge(ids, pair, idx)\n",
        "    merges[pair] = idx"
      ],
      "metadata": {
        "execution": {
          "iopub.status.busy": "2024-06-26T07:30:18.382816Z",
          "iopub.execute_input": "2024-06-26T07:30:18.383241Z",
          "iopub.status.idle": "2024-06-26T07:30:18.938106Z",
          "shell.execute_reply.started": "2024-06-26T07:30:18.383199Z",
          "shell.execute_reply": "2024-06-26T07:30:18.936814Z"
        },
        "trusted": true,
        "id": "qLQph6Rale5_"
      },
      "execution_count": null,
      "outputs": []
    },
    {
      "cell_type": "code",
      "source": [
        "len(ids)"
      ],
      "metadata": {
        "execution": {
          "iopub.status.busy": "2024-06-26T07:30:18.939502Z",
          "iopub.execute_input": "2024-06-26T07:30:18.939837Z",
          "iopub.status.idle": "2024-06-26T07:30:18.946929Z",
          "shell.execute_reply.started": "2024-06-26T07:30:18.93981Z",
          "shell.execute_reply": "2024-06-26T07:30:18.945879Z"
        },
        "trusted": true,
        "id": "41svWN_tle5_"
      },
      "execution_count": null,
      "outputs": []
    },
    {
      "cell_type": "code",
      "source": [
        "def get_merges(tokens, vocab_size, verbose=False):\n",
        "    num_merges = vocab_size - 256\n",
        "    ids = list(tokens)\n",
        "    merges = {}\n",
        "\n",
        "    for i in range(num_merges):\n",
        "        stats = get_stats(ids)\n",
        "        top_pair = max(stats, key=stats.get)\n",
        "        idx = 256+i\n",
        "        if verbose:\n",
        "            print(f\"Merging {top_pair} into new token {idx}\")\n",
        "        ids = merge(ids, top_pair, idx)\n",
        "        merges[top_pair]= idx\n",
        "\n",
        "    return merges"
      ],
      "metadata": {
        "execution": {
          "iopub.status.busy": "2024-06-26T07:30:18.948559Z",
          "iopub.execute_input": "2024-06-26T07:30:18.948946Z",
          "iopub.status.idle": "2024-06-26T07:30:18.957037Z",
          "shell.execute_reply.started": "2024-06-26T07:30:18.948904Z",
          "shell.execute_reply": "2024-06-26T07:30:18.955908Z"
        },
        "trusted": true,
        "id": "QdI1LBKrle6A"
      },
      "execution_count": null,
      "outputs": []
    },
    {
      "cell_type": "code",
      "source": [
        "print(f\"Tokens length: {len(tokens)} Bytes\")\n",
        "print(f\"ids length: {len(ids)} Bytes\")\n",
        "print(f\"Compression ratio: {len(tokens) / len(ids):.2f}X\")"
      ],
      "metadata": {
        "execution": {
          "iopub.status.busy": "2024-06-26T07:30:18.962193Z",
          "iopub.execute_input": "2024-06-26T07:30:18.962632Z",
          "iopub.status.idle": "2024-06-26T07:30:18.97048Z",
          "shell.execute_reply.started": "2024-06-26T07:30:18.9626Z",
          "shell.execute_reply": "2024-06-26T07:30:18.969362Z"
        },
        "trusted": true,
        "id": "srV9ZCNWle6A"
      },
      "execution_count": null,
      "outputs": []
    },
    {
      "cell_type": "markdown",
      "source": [
        "Note, the Tokenizer is a completely separate, independent module from the LLM. It has its **own training dataset** of text (which could be **different** from that of the LLM), on which you train the vocabulary using the Byte Pair Encoding (BPE) algorithm. It then translates back and forth between raw text and sequences of tokens. The LLM later **only ever sees the tokens** and never directly deals with any text.\n",
        "![image.png](attachment:4e2a6131-5f8f-47ab-8a12-c5b3d44ace80.png)"
      ],
      "metadata": {
        "id": "9zVh5jFQle6A"
      }
    },
    {
      "cell_type": "markdown",
      "source": [
        "# Decoding\n",
        "Given a sequence of integers in range `[0, vocab_size]`, what is the original text?"
      ],
      "metadata": {
        "id": "J8d1hndJle6A"
      }
    },
    {
      "cell_type": "code",
      "source": [
        "print(merges)"
      ],
      "metadata": {
        "execution": {
          "iopub.status.busy": "2024-06-26T07:30:18.971816Z",
          "iopub.execute_input": "2024-06-26T07:30:18.972193Z",
          "iopub.status.idle": "2024-06-26T07:30:18.983205Z",
          "shell.execute_reply.started": "2024-06-26T07:30:18.972162Z",
          "shell.execute_reply": "2024-06-26T07:30:18.982024Z"
        },
        "trusted": true,
        "id": "5MWZGl8jle6A"
      },
      "execution_count": null,
      "outputs": []
    },
    {
      "cell_type": "code",
      "source": [
        "bytes(list((\"a\").encode('utf-8'))), bytes([97])"
      ],
      "metadata": {
        "execution": {
          "iopub.status.busy": "2024-06-26T07:30:18.98578Z",
          "iopub.execute_input": "2024-06-26T07:30:18.986308Z",
          "iopub.status.idle": "2024-06-26T07:30:18.995583Z",
          "shell.execute_reply.started": "2024-06-26T07:30:18.986269Z",
          "shell.execute_reply": "2024-06-26T07:30:18.99425Z"
        },
        "trusted": true,
        "id": "LiDsie36le6A"
      },
      "execution_count": null,
      "outputs": []
    },
    {
      "cell_type": "code",
      "source": [
        "\"\"\"Decoding Table\"\"\"\n",
        "vocab = {idx: bytes([idx]) for idx in range(256)}\n",
        "for (p0, p1), idx in merges.items():\n",
        "    vocab[idx] = vocab[p0]+vocab[p1]"
      ],
      "metadata": {
        "execution": {
          "iopub.status.busy": "2024-06-26T07:30:18.997178Z",
          "iopub.execute_input": "2024-06-26T07:30:18.997693Z",
          "iopub.status.idle": "2024-06-26T07:30:19.004489Z",
          "shell.execute_reply.started": "2024-06-26T07:30:18.997652Z",
          "shell.execute_reply": "2024-06-26T07:30:19.003422Z"
        },
        "trusted": true,
        "id": "mGbVPpSrle6A"
      },
      "execution_count": null,
      "outputs": []
    },
    {
      "cell_type": "code",
      "source": [
        "\"\"\"Decode function\"\"\"\n",
        "def decode(ids):\n",
        "    s=b''.join([vocab[i] for i in ids])\n",
        "    return s.decode('utf-8', errors='replace') #convert bytes to string\n",
        "\n",
        "print(decode(bytes([128])))\n",
        "print(decode(ids[:100]))"
      ],
      "metadata": {
        "execution": {
          "iopub.status.busy": "2024-06-26T07:30:19.005719Z",
          "iopub.execute_input": "2024-06-26T07:30:19.006063Z",
          "iopub.status.idle": "2024-06-26T07:30:19.016766Z",
          "shell.execute_reply.started": "2024-06-26T07:30:19.006036Z",
          "shell.execute_reply": "2024-06-26T07:30:19.015631Z"
        },
        "trusted": true,
        "id": "paAISxr2le6A"
      },
      "execution_count": null,
      "outputs": []
    },
    {
      "cell_type": "markdown",
      "source": [
        "# Encoding\n",
        "Tokens for a given string"
      ],
      "metadata": {
        "id": "iE8GDjecle6A"
      }
    },
    {
      "cell_type": "code",
      "source": [
        "merges"
      ],
      "metadata": {
        "execution": {
          "iopub.status.busy": "2024-06-26T07:30:19.018254Z",
          "iopub.execute_input": "2024-06-26T07:30:19.018648Z",
          "iopub.status.idle": "2024-06-26T07:30:19.03538Z",
          "shell.execute_reply.started": "2024-06-26T07:30:19.018618Z",
          "shell.execute_reply": "2024-06-26T07:30:19.034092Z"
        },
        "trusted": true,
        "id": "8eJsplp_le6D"
      },
      "execution_count": null,
      "outputs": []
    },
    {
      "cell_type": "code",
      "source": [
        "\"\"\"Encoding\"\"\"\n",
        "\n",
        "def encode(text, merges=merges):\n",
        "#     convert text to list of utf-8 encoded tokens\n",
        "    tokens = list(text.encode('utf-8'))\n",
        "\n",
        "    while len(tokens)>=2:\n",
        "        stats = get_stats(tokens)\n",
        "        # return the most elgible merge candidate pair\n",
        "        pair = min(stats, key=lambda p: merges.get(p, float(\"inf\")))\n",
        "        if pair not in merges:\n",
        "            break\n",
        "        idx = merges[pair]\n",
        "        tokens = merge(tokens, pair, idx)\n",
        "    return tokens\n",
        "\n",
        "example_text = \"hello world!\"\n",
        "print(list(example_text.encode('utf-8')))\n",
        "print(encode(example_text))"
      ],
      "metadata": {
        "execution": {
          "iopub.status.busy": "2024-06-26T07:30:19.036882Z",
          "iopub.execute_input": "2024-06-26T07:30:19.037243Z",
          "iopub.status.idle": "2024-06-26T07:30:19.047243Z",
          "shell.execute_reply.started": "2024-06-26T07:30:19.037213Z",
          "shell.execute_reply": "2024-06-26T07:30:19.045998Z"
        },
        "trusted": true,
        "id": "ySuFfdt_le6D"
      },
      "execution_count": null,
      "outputs": []
    },
    {
      "cell_type": "markdown",
      "source": [
        "## Explaining the encode function\n",
        "`# return the most elgible merge candidate pair\n",
        "pair = min(stats, key=lambda p: merges.get(p, float(\"inf\")))`"
      ],
      "metadata": {
        "id": "M9DCk6iEle6E"
      }
    },
    {
      "cell_type": "code",
      "source": [
        "# assume we trained our tokenizer on this text\n",
        "example_text = \"GB__BCGBGBBCAB_ABABABAB\"\n",
        "example_tokens = example_text.encode(\"utf-8\")\n",
        "example_stats = get_stats(example_tokens)\n",
        "example_merges = get_merges(example_tokens, 261)\n",
        "\n",
        "print(f\"Stats: {example_stats}\")\n",
        "print(f\"Merges: {example_merges}\")"
      ],
      "metadata": {
        "execution": {
          "iopub.status.busy": "2024-06-26T07:30:19.048799Z",
          "iopub.execute_input": "2024-06-26T07:30:19.0492Z",
          "iopub.status.idle": "2024-06-26T07:30:19.05953Z",
          "shell.execute_reply.started": "2024-06-26T07:30:19.049162Z",
          "shell.execute_reply": "2024-06-26T07:30:19.058188Z"
        },
        "trusted": true,
        "id": "L9sbtT9rle6E"
      },
      "execution_count": null,
      "outputs": []
    },
    {
      "cell_type": "code",
      "source": [
        "example_merges.get((65,66), float(\"inf\"))"
      ],
      "metadata": {
        "execution": {
          "iopub.status.busy": "2024-06-26T07:30:19.06111Z",
          "iopub.execute_input": "2024-06-26T07:30:19.061594Z",
          "iopub.status.idle": "2024-06-26T07:30:19.073974Z",
          "shell.execute_reply.started": "2024-06-26T07:30:19.061554Z",
          "shell.execute_reply": "2024-06-26T07:30:19.072799Z"
        },
        "trusted": true,
        "id": "OAzd0nDgle6E"
      },
      "execution_count": null,
      "outputs": []
    },
    {
      "cell_type": "code",
      "source": [
        "pair = min(example_stats, key= lambda pair: example_merges.get(pair, float(\"inf\")))\n",
        "print(f\"Pair {pair} merges is {pair in example_merges}\")\n",
        "\n",
        "print(\n",
        "f\"Length of tokens before encoding: {len(example_tokens)} | Length after encoding: {len(encode(example_text, merges=example_merges))}\"\n",
        ")"
      ],
      "metadata": {
        "execution": {
          "iopub.status.busy": "2024-06-26T07:30:19.075261Z",
          "iopub.execute_input": "2024-06-26T07:30:19.075628Z",
          "iopub.status.idle": "2024-06-26T07:30:19.087552Z",
          "shell.execute_reply.started": "2024-06-26T07:30:19.075598Z",
          "shell.execute_reply": "2024-06-26T07:30:19.086381Z"
        },
        "trusted": true,
        "id": "uErjrrYvle6E"
      },
      "execution_count": null,
      "outputs": []
    },
    {
      "cell_type": "code",
      "source": [
        "# when encoding another text (with the same tokenizer), it will take the highest pair that already in the moerges\n",
        "example_text2 = \"HLBCIBC\"\n",
        "example_tokens2 = example_text2.encode(\"utf-8\")\n",
        "example_stats2 = get_stats(example_tokens2)\n",
        "print(f\"Stats: {example_stats2}\")\n",
        "print(f\"Merges: {example_merges}\")\n",
        "pair = min(example_stats2, key=lambda p: example_merges.get(p, float(\"inf\")))\n",
        "print(f\"Pair {pair} is merges: {pair in example_merges}\")\n",
        "print(\n",
        "    f\"example_tokens2: {list(example_tokens2)} | encoded_tokens2: {list(encode(example_text2, example_merges))}\"\n",
        ")  # Encoded"
      ],
      "metadata": {
        "execution": {
          "iopub.status.busy": "2024-06-26T07:30:19.089033Z",
          "iopub.execute_input": "2024-06-26T07:30:19.089347Z",
          "iopub.status.idle": "2024-06-26T07:30:19.100644Z",
          "shell.execute_reply.started": "2024-06-26T07:30:19.08932Z",
          "shell.execute_reply": "2024-06-26T07:30:19.099258Z"
        },
        "trusted": true,
        "id": "TbBI4m0ple6E"
      },
      "execution_count": null,
      "outputs": []
    },
    {
      "cell_type": "code",
      "source": [
        "# another example (not in merges)\n",
        "example_text4 = \"123123123\"\n",
        "example_tokens4 = example_text4.encode(\"utf-8\")\n",
        "example_stats4 = get_stats(example_tokens4)\n",
        "print(f\"Stats: {example_stats4}\")\n",
        "pair = min(example_stats4, key=lambda p: example_merges.get(p, float(\"inf\")))\n",
        "print(\n",
        "    f\"Pair {pair} is in merges: {pair in example_merges}\"\n",
        ")  # False ➡️ it will break the encoding loop\n",
        "print(\n",
        "    f\"example_tokens4: {list(example_tokens4)} | encoded_tokens4: {list(encode(example_text4, example_merges))}\"\n",
        ")  # Not Encoded"
      ],
      "metadata": {
        "execution": {
          "iopub.status.busy": "2024-06-26T07:30:19.102369Z",
          "iopub.execute_input": "2024-06-26T07:30:19.102845Z",
          "iopub.status.idle": "2024-06-26T07:30:19.1131Z",
          "shell.execute_reply.started": "2024-06-26T07:30:19.102805Z",
          "shell.execute_reply": "2024-06-26T07:30:19.111767Z"
        },
        "trusted": true,
        "id": "IOO_7gbgle6F"
      },
      "execution_count": null,
      "outputs": []
    },
    {
      "cell_type": "markdown",
      "source": [
        "# Encoding-Decoding validation\n",
        "sidenote: `merges` and `vocab_size` are the hyperparameters"
      ],
      "metadata": {
        "id": "WtTDTpscle6F"
      }
    },
    {
      "cell_type": "code",
      "source": [
        "valtext = \"Many common characters, including numerals, punctuation, and other symbols, are unified within the standard and are not treated as specific to any given writing system. Unicode encodes thousands of emoji, with the continued development thereof conducted by the Consortium as a part of the standard.[4] Moreover, the widespread adoption of Unicode was in large part responsible for the initial popularization of emoji outside of Japan. Unicode is ultimately capable of encoding more than 1.1 million characters.\"\n",
        "print(decode(encode((valtext))) == valtext)"
      ],
      "metadata": {
        "execution": {
          "iopub.status.busy": "2024-06-26T07:30:19.114694Z",
          "iopub.execute_input": "2024-06-26T07:30:19.115158Z",
          "iopub.status.idle": "2024-06-26T07:30:19.14249Z",
          "shell.execute_reply.started": "2024-06-26T07:30:19.115114Z",
          "shell.execute_reply": "2024-06-26T07:30:19.141111Z"
        },
        "trusted": true,
        "id": "IvUABBecle6I"
      },
      "execution_count": null,
      "outputs": []
    },
    {
      "cell_type": "markdown",
      "source": [
        "## Forced splits using regex patterns (GPT2 series)"
      ],
      "metadata": {
        "id": "Tv-9WDRJle6I"
      }
    },
    {
      "cell_type": "code",
      "source": [
        "import regex as re\n",
        "\"\"\"\n",
        "    /p{L}+: matches one or more letters\n",
        "    /p{N}+: matches one or more numbers\n",
        "    [^\\s\\p{L}\\p{N}]: matches any non-space, non-letter, and non-number\n",
        "    \\s+(?!\\S): matches any space that is not followed by a non-space (how           are you)\n",
        "\"\"\"\n",
        "\n",
        "\n",
        "gpt2pat = re.compile(r\"\"\"'s|'t|'re|'ve|'m|'ll|'d| ?\\p{L}+| ?\\p{N}+| ?[^\\s\\p{L}\\p{N}]+|\\s+(?!\\S)|\\s+\"\"\")\n",
        "print(re.findall(gpt2pat, \"Hello World\"))"
      ],
      "metadata": {
        "execution": {
          "iopub.status.busy": "2024-06-26T07:31:58.080275Z",
          "iopub.execute_input": "2024-06-26T07:31:58.080714Z",
          "iopub.status.idle": "2024-06-26T07:31:58.104791Z",
          "shell.execute_reply.started": "2024-06-26T07:31:58.08068Z",
          "shell.execute_reply": "2024-06-26T07:31:58.103638Z"
        },
        "trusted": true,
        "id": "CociwAxyle6J"
      },
      "execution_count": null,
      "outputs": []
    },
    {
      "cell_type": "code",
      "source": [
        "print(re.findall(gpt2pat, \"Hello've world123 how's are you!!!?\"))"
      ],
      "metadata": {
        "execution": {
          "iopub.status.busy": "2024-06-26T07:32:00.440978Z",
          "iopub.execute_input": "2024-06-26T07:32:00.441405Z",
          "iopub.status.idle": "2024-06-26T07:32:00.448194Z",
          "shell.execute_reply.started": "2024-06-26T07:32:00.441369Z",
          "shell.execute_reply": "2024-06-26T07:32:00.446978Z"
        },
        "trusted": true,
        "id": "IYxkmrG5le6J"
      },
      "execution_count": null,
      "outputs": []
    },
    {
      "cell_type": "code",
      "source": [
        "example = \"\"\"\n",
        "for i in range(1, 101):\n",
        "    if i % 3 == 0 and i % 5 == 0:\n",
        "        print(\"FizzBuzz\")\n",
        "    elif i % 3 == 0:\n",
        "        print(\"Fizz\")\n",
        "    elif i % 5 == 0:\n",
        "        print(\"Buzz\")\n",
        "    else:\n",
        "        print(i)\n",
        "\"\"\"\n",
        "print(re.findall(gpt2pat, example))"
      ],
      "metadata": {
        "execution": {
          "iopub.status.busy": "2024-06-26T07:32:02.94781Z",
          "iopub.execute_input": "2024-06-26T07:32:02.948186Z",
          "iopub.status.idle": "2024-06-26T07:32:02.95505Z",
          "shell.execute_reply.started": "2024-06-26T07:32:02.948158Z",
          "shell.execute_reply": "2024-06-26T07:32:02.953774Z"
        },
        "trusted": true,
        "id": "m2hMIi3dle6J"
      },
      "execution_count": null,
      "outputs": []
    },
    {
      "cell_type": "markdown",
      "source": [
        "## Tiktoken"
      ],
      "metadata": {
        "id": "CYGOsEXble6J"
      }
    },
    {
      "cell_type": "markdown",
      "source": [
        "![image.png](attachment:b94dc710-b188-4e1e-8d20-8140d98928b6.png)"
      ],
      "metadata": {
        "id": "lVaegXRxle6J"
      }
    },
    {
      "cell_type": "code",
      "source": [
        "import os\n",
        "import json\n",
        "\n",
        "with open(\"/kaggle/input/merges/encoder.json\", \"r\") as f:\n",
        "    encoder = json.load(f)# <--- ~equivalent to our \"vocab\"\n",
        "\n",
        "with open(\"/kaggle/input/merges/vocab.bpe\", \"r\", encoding=\"utf-8\") as f:\n",
        "    bpe_data = f.read()\n",
        "bpe_merges = [tuple(merge_str.split()) for merge_str in bpe_data.split(\"\\n\")[1:-1]]\n",
        "# ^---- ~equivalent to our \"merges\""
      ],
      "metadata": {
        "execution": {
          "iopub.status.busy": "2024-06-26T07:32:06.734724Z",
          "iopub.execute_input": "2024-06-26T07:32:06.735169Z",
          "iopub.status.idle": "2024-06-26T07:32:06.851981Z",
          "shell.execute_reply.started": "2024-06-26T07:32:06.735136Z",
          "shell.execute_reply": "2024-06-26T07:32:06.850647Z"
        },
        "trusted": true,
        "id": "CZmDHmDHle6J"
      },
      "execution_count": null,
      "outputs": []
    },
    {
      "cell_type": "code",
      "source": [
        "print(list(encoder.items())[:10])\n",
        "print(list(vocab.items())[:10])"
      ],
      "metadata": {
        "execution": {
          "iopub.status.busy": "2024-06-26T07:32:09.659577Z",
          "iopub.execute_input": "2024-06-26T07:32:09.660032Z",
          "iopub.status.idle": "2024-06-26T07:32:09.673004Z",
          "shell.execute_reply.started": "2024-06-26T07:32:09.659996Z",
          "shell.execute_reply": "2024-06-26T07:32:09.671668Z"
        },
        "trusted": true,
        "id": "NROJhylole6J"
      },
      "execution_count": null,
      "outputs": []
    },
    {
      "cell_type": "code",
      "source": [
        "print(list(merges)[:10])\n",
        "print(bpe_merges[:10])"
      ],
      "metadata": {
        "execution": {
          "iopub.status.busy": "2024-06-26T07:32:11.812814Z",
          "iopub.execute_input": "2024-06-26T07:32:11.813272Z",
          "iopub.status.idle": "2024-06-26T07:32:11.81936Z",
          "shell.execute_reply.started": "2024-06-26T07:32:11.813238Z",
          "shell.execute_reply": "2024-06-26T07:32:11.818219Z"
        },
        "trusted": true,
        "id": "XvN119gCle6K"
      },
      "execution_count": null,
      "outputs": []
    },
    {
      "cell_type": "markdown",
      "source": [
        "➡️ using `vocab` and `merges` you can represnet a tokenizer: encode and decode"
      ],
      "metadata": {
        "id": "1tDx5yItle6K"
      }
    },
    {
      "cell_type": "markdown",
      "source": [
        "## Special Tokens"
      ],
      "metadata": {
        "id": "dedCFTPTle6K"
      }
    },
    {
      "cell_type": "code",
      "source": [
        "# 256 raw byte tokens + 50.000 merges + 1 special token\n",
        "print(f\"The length of the encoder: {len(encoder)}\")\n",
        "print(f\"\"\"Encoder <|endoftext|>: {encoder['<|endoftext|>']}\"\"\")"
      ],
      "metadata": {
        "execution": {
          "iopub.status.busy": "2024-06-26T07:32:14.293044Z",
          "iopub.execute_input": "2024-06-26T07:32:14.294414Z",
          "iopub.status.idle": "2024-06-26T07:32:14.300165Z",
          "shell.execute_reply.started": "2024-06-26T07:32:14.294308Z",
          "shell.execute_reply": "2024-06-26T07:32:14.299001Z"
        },
        "trusted": true,
        "id": "lM9L02NPle6K"
      },
      "execution_count": null,
      "outputs": []
    },
    {
      "cell_type": "markdown",
      "source": [
        "`cl100k_base` has another 4 special tokens:\n",
        "\n",
        "* FIM_PREFIX\n",
        "* FIM_MIDDLE\n",
        "* FIM_SUFFIX\n",
        "* ENDOFPROMPT"
      ],
      "metadata": {
        "id": "R3p2DYR1le6K"
      }
    },
    {
      "cell_type": "markdown",
      "source": [
        "# SentencePiece\n",
        "\n",
        "Commonly used because (unlike tiktoken) it can efficiently both **train** and **inference** BPE tokenizers. It is used in both `Llama` and `Mistral` series.\n",
        "\n",
        "[sentencepiece on Github link](https://github.com/google/sentencepiece).\n",
        "\n",
        "The big difference: sentencepiece runs BPE on the **Unicode code points directly**! It then has an option `character_coverage` for what to do with very very rare codepoints that appear very few times, and it either maps them onto an `<unk>` token, or if `byte_fallback` is turned on, it encodes them with `utf-8` and then encodes the `raw bytes` instead.\n",
        "\n",
        "TLDR:\n",
        "\n",
        "* *tiktoken* encodes to `utf-8` and then `BPEs bytes`\n",
        "* sentencepiece `BPEs` the code points and **optionally falls back to `utf-8` bytes** for **rare code points** (rarity is determined by `character_coverage` hyperparameter), which then get translated to `byte` tokens. (Personally I think the tiktoken way is a lot cleaner...)"
      ],
      "metadata": {
        "id": "Kq1xqZ-7le6K"
      }
    },
    {
      "cell_type": "code",
      "source": [
        "import sentencepiece as spm"
      ],
      "metadata": {
        "execution": {
          "iopub.status.busy": "2024-06-26T07:37:53.064154Z",
          "iopub.execute_input": "2024-06-26T07:37:53.064541Z",
          "iopub.status.idle": "2024-06-26T07:37:53.089651Z",
          "shell.execute_reply.started": "2024-06-26T07:37:53.064511Z",
          "shell.execute_reply": "2024-06-26T07:37:53.08849Z"
        },
        "trusted": true,
        "id": "vxCa0U-Gle6K"
      },
      "execution_count": null,
      "outputs": []
    },
    {
      "cell_type": "code",
      "source": [
        "with open('toy.txt', 'w', encoding='utf-8') as f:\n",
        "    f.write(\"\"\"SentencePiece is an unsupervised text tokenizer and detokenizer mainly for Neural Network-based text generation systems where the vocabulary size is predetermined prior to the neural model training. SentencePiece implements subword units (e.g., byte-pair-encoding (BPE) [Sennrich et al.]) and unigram language model [Kudo.]) with the extension of direct training from raw sentences. SentencePiece allows us to make a purely end-to-end system that does not depend on language-specific pre/postprocessing.\"\"\")"
      ],
      "metadata": {
        "execution": {
          "iopub.status.busy": "2024-06-26T07:39:10.831651Z",
          "iopub.execute_input": "2024-06-26T07:39:10.834126Z",
          "iopub.status.idle": "2024-06-26T07:39:10.840329Z",
          "shell.execute_reply.started": "2024-06-26T07:39:10.834068Z",
          "shell.execute_reply": "2024-06-26T07:39:10.839277Z"
        },
        "trusted": true,
        "id": "c9EUEaQwle6L"
      },
      "execution_count": null,
      "outputs": []
    },
    {
      "cell_type": "markdown",
      "source": [
        "### Training a sentencepiece model on it"
      ],
      "metadata": {
        "id": "VCOVdj03le6L"
      }
    },
    {
      "cell_type": "code",
      "source": [
        "#Settings best possible attempt to replicate LLama 2\n",
        "\n",
        "import os\n",
        "\n",
        "options = dict(\n",
        "    #input specs\n",
        "    input='toy.txt',\n",
        "    input_format = \"text\",\n",
        "\n",
        "    #output specs\n",
        "    model_prefix = \"tok400\", #output filename prefix\n",
        "\n",
        "    #algorithm specs\n",
        "\n",
        "    #BPE algorithm\n",
        "    model_type = \"bpe\",\n",
        "    vocab_size = 400,\n",
        "\n",
        "    #normalization\n",
        "    normalization_rule_name = \"identity\",\n",
        "    remove_extra_whitespaces = False,\n",
        "    input_sentence_size = 200000000,\n",
        "    max_sentence_length = 4192,\n",
        "    seed_sentencepiece_size = 1000000,\n",
        "    shuffle_input_sentence = True,\n",
        "\n",
        "    #rare word treatment\n",
        "    character_coverage = 0.99995,\n",
        "    byte_fallback = True,\n",
        "\n",
        "    #merging rules\n",
        "    split_digits = True,\n",
        "    split_by_unicode_script = True,\n",
        "    split_by_number = True,\n",
        "    max_sentencepiece_length = 16,\n",
        "\n",
        "    add_dummy_prefix = True, #adds a space to the beginning of each sentence (to make word has same treatment in the beginning and middle of the sentence)\n",
        "    allow_whitespace_only_pieces = True,\n",
        "\n",
        "    #special id features\n",
        "    unk_id = 0, #the UNK token MUST exist\n",
        "    bos_id = 1, #optional, set -1 to switch off\n",
        "    eos_id = 2, #optional\n",
        "    pad_id = -1,#don't use padding\n",
        "\n",
        "    #systems\n",
        "    num_threads = os.cpu_count(), #use ~all system preferences\n",
        ")\n",
        "\n",
        "spm.SentencePieceTrainer.train(**options)"
      ],
      "metadata": {
        "execution": {
          "iopub.status.busy": "2024-06-26T07:50:12.563545Z",
          "iopub.execute_input": "2024-06-26T07:50:12.564011Z",
          "iopub.status.idle": "2024-06-26T07:50:12.605838Z",
          "shell.execute_reply.started": "2024-06-26T07:50:12.563977Z",
          "shell.execute_reply": "2024-06-26T07:50:12.603873Z"
        },
        "trusted": true,
        "id": "3s2oYdWRle6L"
      },
      "execution_count": null,
      "outputs": []
    },
    {
      "cell_type": "code",
      "source": [
        "sp = spm.SentencePieceProcessor()\n",
        "sp.load(\"tok400.model\")\n",
        "vocab = [[sp.id_to_piece(idx), idx] for idx in range(sp.get_piece_size())]\n",
        "vocab"
      ],
      "metadata": {
        "execution": {
          "iopub.status.busy": "2024-06-26T07:53:48.520626Z",
          "iopub.execute_input": "2024-06-26T07:53:48.521093Z",
          "iopub.status.idle": "2024-06-26T07:53:48.558478Z",
          "shell.execute_reply.started": "2024-06-26T07:53:48.521056Z",
          "shell.execute_reply": "2024-06-26T07:53:48.557132Z"
        },
        "trusted": true,
        "id": "8mVohy2Cle6L"
      },
      "execution_count": null,
      "outputs": []
    },
    {
      "cell_type": "code",
      "source": [
        "ids = sp.encode(\"hello 안녕하세요\")\n",
        "print(ids)\n",
        "print([sp.id_to_piece(idx) for idx in ids])\n"
      ],
      "metadata": {
        "execution": {
          "iopub.status.busy": "2024-06-26T07:55:27.026644Z",
          "iopub.execute_input": "2024-06-26T07:55:27.027086Z",
          "iopub.status.idle": "2024-06-26T07:55:27.0341Z",
          "shell.execute_reply.started": "2024-06-26T07:55:27.027053Z",
          "shell.execute_reply": "2024-06-26T07:55:27.03281Z"
        },
        "trusted": true,
        "id": "VJaD5jQ9le6M"
      },
      "execution_count": null,
      "outputs": []
    },
    {
      "cell_type": "markdown",
      "source": [
        "# Appropriate Vocab Size\n",
        "Bigram/GPTLanguageModel Architecture\n",
        "\n",
        "    def __init__(self):\n",
        "        super().__init__()\n",
        "        self.token_embedding_table = nn.Embedding(vocab_size, n_embed)\n",
        "        self.pos_embedding_table = nn.Embedding(block_size, n_embed)\n",
        "        self.blocks = nn.Sequential(*[Block(n_embed, n_heads=n_heads) for _ in range(n_layers)])\n",
        "        self.ln_f = nn.LayerNorm(n_embed)\n",
        "        self.lm_head = nn.Linear(n_embed, vocab_size)\n",
        "\n",
        "`vocab_size` appears:\n",
        "* in the `self.token_embedding_table` where `vocab_size` is the number of rows\n",
        "* in `self.lm_head` which produces the `logits` for the next token, where `vocab_size` is the number of columns\n",
        "\n",
        "\n",
        "Very Large Vocab Size?\n",
        "* Since more of these tokens are rare, we gonna undertrain these tokens\n",
        "\n",
        "* Squishing too much information in a single token, the transformer forward pass is not enough to process this information appropriately.\n",
        "\n",
        "* Vocab Size is usually 10s of thousands, e.g., 50k, 100k"
      ],
      "metadata": {
        "id": "Tp5Yh694le6M"
      }
    },
    {
      "cell_type": "code",
      "source": [],
      "metadata": {
        "id": "myV3j-gyle6M"
      },
      "execution_count": null,
      "outputs": []
    }
  ]
}